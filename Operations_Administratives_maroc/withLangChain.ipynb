{
 "cells": [
  {
   "cell_type": "code",
   "execution_count": 8,
   "id": "842161b2-76d7-4040-adec-babd3c7fca1f",
   "metadata": {},
   "outputs": [
    {
     "name": "stdout",
     "output_type": "stream",
     "text": [
      "\n",
      "🟢 Chat administratif intelligent prêt !\n",
      "Pose ta question (ex: Comment renouveler ma CNIE ?)\n",
      "Tape 'exit' pour quitter.\n",
      "\n"
     ]
    },
    {
     "name": "stdin",
     "output_type": "stream",
     "text": [
      "❓ Ta question :  comment je peux faire mon passport ?\n"
     ]
    },
    {
     "name": "stdout",
     "output_type": "stream",
     "text": [
      "\n",
      "💬 Réponse :\n",
      "Pour faire votre passeport biométrique pour la première demande, vous devez suivre ces étapes :\n",
      "\n",
      "1. Rassembler les documents requis :\n",
      "   - Formulaire de demande rempli\n",
      "   - Copie de votre Carte Nationale d'Identité Électronique (CNIE)\n",
      "   - 4 photos d'identité récentes\n",
      "   - Acte de naissance ou livret de famille\n",
      "   - Code e-timbre (timbre électronique)\n",
      "\n",
      "2. Soumettre votre demande auprès de l'autorité compétente, qui peut être la DGSN, la Préfecture ou le Consulat.\n",
      "\n",
      "3. Payer les frais estimés de 300 DH.\n",
      "\n",
      "4. Attendre le délai moyen de traitement, qui est de 1 à 3 semaines.\n",
      "\n",
      "Pour plus d'informations, vous pouvez consulter le site officiel : [passeport.ma](https://www.passeport.ma).\n",
      "\n",
      "📄 Sources :\n",
      "- ID: 4, Catégorie: Documents d'identité\n",
      "- ID: 5, Catégorie: Documents d'identité\n",
      "- ID: 6, Catégorie: Documents d'identité\n",
      "\n",
      "============================================================\n",
      "\n"
     ]
    },
    {
     "name": "stdin",
     "output_type": "stream",
     "text": [
      "❓ Ta question :  exit\n"
     ]
    },
    {
     "name": "stdout",
     "output_type": "stream",
     "text": [
      "👋 Fin de la session. À bientôt !\n"
     ]
    }
   ],
   "source": [
    "import json\n",
    "import os\n",
    "from dotenv import load_dotenv\n",
    "from langchain.embeddings import OpenAIEmbeddings\n",
    "from langchain.vectorstores import FAISS\n",
    "from langchain.chains import RetrievalQA\n",
    "from langchain.chat_models import ChatOpenAI\n",
    "from langchain.schema import Document\n",
    "\n",
    "# Charger la clé API\n",
    "load_dotenv()\n",
    "\n",
    "# Charger ta base de données JSON\n",
    "with open(\"operations_administratives_maroc.json\", \"r\", encoding=\"utf-8\") as f:\n",
    "    data = json.load(f)\n",
    "\n",
    "# Transformer les données en Documents LangChain\n",
    "documents = []\n",
    "for category, docs in data.items():\n",
    "    for doc in docs:\n",
    "        text = f\"\"\"\n",
    "ID: {doc['id']}\n",
    "Opération: {doc['operation']}\n",
    "Catégorie: {doc['categorie']}\n",
    "Documents requis: {', '.join(doc['documents_requis'])}\n",
    "Nombre de documents: {doc['nombre_documents']}\n",
    "Autorité compétente: {doc['autorite_competente']}\n",
    "Source officielle: {doc['source_officielle']}\n",
    "Frais estimés: {doc['frais_estimés']}\n",
    "Délai moyen: {doc['delai_moyen']}\n",
    "Format de sortie: {doc['format_sortie']}\n",
    "\"\"\"\n",
    "        documents.append(Document(page_content=text, metadata={\"id\": doc['id'], \"categorie\": doc['categorie']}))\n",
    "\n",
    "# Initialiser le modèle d'embeddings et créer l'index vectoriel\n",
    "embeddings = OpenAIEmbeddings(model=\"text-embedding-3-small\")\n",
    "vectorstore = FAISS.from_documents(documents, embeddings)\n",
    "\n",
    "# Créer la chaîne de question/réponse avec récupération par similarité\n",
    "qa = RetrievalQA.from_chain_type(\n",
    "    llm=ChatOpenAI(model_name=\"gpt-4o-mini\", temperature=0),\n",
    "    retriever=vectorstore.as_retriever(search_type=\"similarity\", search_kwargs={\"k\": 3}),\n",
    "    return_source_documents=True\n",
    ")"
   ]
  },
  {
   "cell_type": "code",
   "execution_count": 9,
   "id": "0b051734-4ea1-47dc-845a-dcc2f530891b",
   "metadata": {},
   "outputs": [
    {
     "name": "stdout",
     "output_type": "stream",
     "text": [
      "\n",
      "🟢 Chat administratif intelligent prêt !\n",
      "Pose ta question (ex: Comment renouveler ma CNIE ?)\n",
      "Tape 'exit' pour quitter.\n",
      "\n"
     ]
    },
    {
     "name": "stdin",
     "output_type": "stream",
     "text": [
      "❓ Ta question :  exit\n"
     ]
    },
    {
     "name": "stdout",
     "output_type": "stream",
     "text": [
      "👋 Fin de la session. À bientôt !\n"
     ]
    }
   ],
   "source": [
    "# === Boucle interactive ===\n",
    "print(\"\\n🟢 Chat administratif intelligent prêt !\")\n",
    "print(\"Pose ta question (ex: Comment renouveler ma CNIE ?)\")\n",
    "print(\"Tape 'exit' pour quitter.\\n\")\n",
    "\n",
    "while True:\n",
    "    question = input(\"❓ Ta question : \")\n",
    "    if question.lower() == \"exit\":\n",
    "        print(\"👋 Fin de la session. À bientôt !\")\n",
    "        break\n",
    "\n",
    "    result = qa(question)\n",
    "    print(\"\\n💬 Réponse :\")\n",
    "    print(result['result'])"
   ]
  },
  {
   "cell_type": "code",
   "execution_count": null,
   "id": "95fdeddd-efd5-4425-8e9f-28edf3d119fa",
   "metadata": {},
   "outputs": [],
   "source": []
  }
 ],
 "metadata": {
  "kernelspec": {
   "display_name": "Python 3 (ipykernel)",
   "language": "python",
   "name": "python3"
  },
  "language_info": {
   "codemirror_mode": {
    "name": "ipython",
    "version": 3
   },
   "file_extension": ".py",
   "mimetype": "text/x-python",
   "name": "python",
   "nbconvert_exporter": "python",
   "pygments_lexer": "ipython3",
   "version": "3.12.4"
  }
 },
 "nbformat": 4,
 "nbformat_minor": 5
}
